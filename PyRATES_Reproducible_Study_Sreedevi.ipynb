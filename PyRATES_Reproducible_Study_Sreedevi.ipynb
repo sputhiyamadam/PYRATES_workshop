{
 "cells": [
  {
   "cell_type": "markdown",
   "id": "4e6ede02-e54f-491b-a6f6-bfc45981bc45",
   "metadata": {},
   "source": [
    "## To understand how the periodicity in rainfall varies with topographical height/slope."
   ]
  },
  {
   "cell_type": "code",
   "execution_count": null,
   "id": "90607f3c-7bae-405f-a577-24e6caedab5b",
   "metadata": {},
   "outputs": [],
   "source": []
  },
  {
   "cell_type": "code",
   "execution_count": 6,
   "id": "15a8c735-7112-44ff-86b3-74ecf39964b8",
   "metadata": {},
   "outputs": [],
   "source": [
    "## environment list\n",
    "## version of packages\n",
    "## flowchart of workflow\n",
    "## metadata\n",
    "## \n"
   ]
  },
  {
   "cell_type": "code",
   "execution_count": 7,
   "id": "d5849224-2bb5-4dcc-8132-ce53d12af099",
   "metadata": {},
   "outputs": [],
   "source": [
    "#pip install mpl_toolkits.basemap"
   ]
  },
  {
   "cell_type": "markdown",
   "id": "c17a2cfb-1215-4f71-86ff-60d249a1d402",
   "metadata": {},
   "source": [
    "## Importing  neccessary packages"
   ]
  },
  {
   "cell_type": "code",
   "execution_count": 4,
   "id": "e8417d65-5f5c-4bb5-a9c8-a64ddf8213a5",
   "metadata": {},
   "outputs": [],
   "source": [
    "\n",
    "\n",
    "from netCDF4 import Dataset\n",
    "import numpy as np\n",
    "#from mpl_toolkits.basemap import Basemap"
   ]
  },
  {
   "cell_type": "markdown",
   "id": "7b121941-6e2d-43fe-89d4-ff6b7eb4b208",
   "metadata": {},
   "source": [
    "## Step 1: Setting up the datasets"
   ]
  },
  {
   "cell_type": "code",
   "execution_count": 5,
   "id": "186f640b-d145-4f2e-8885-ba741cb3a65b",
   "metadata": {},
   "outputs": [
    {
     "name": "stdout",
     "output_type": "stream",
     "text": [
      "<class 'netCDF4._netCDF4.Dataset'>\n",
      "dict_keys(['LON16201_20401', 'LON16201_20401_bnds', 'LAT4201_6601', 'LAT4201_6601_bnds', 'TIME', 'B_BATHY'])\n"
     ]
    }
   ],
   "source": [
    "file = '/Users/spv2023/MGWR_datasets/inputs/etopo1_MC.nc' # mention the path to the downloaded file\n",
    "data = Dataset(file, mode='r') # read the data \n",
    "print(type(data)) # print the type of the data \n",
    "print(data.variables.keys()) # print the variables in the data"
   ]
  },
  {
   "cell_type": "code",
   "execution_count": null,
   "id": "e90f382c-2d45-412b-bb88-780c8102a0e9",
   "metadata": {},
   "outputs": [],
   "source": [
    "## sample data format"
   ]
  },
  {
   "cell_type": "markdown",
   "id": "5fcbbeb0-a94f-4566-a88d-8f6b93277d8e",
   "metadata": {},
   "source": [
    "## Step 2: Calculating slope"
   ]
  },
  {
   "cell_type": "code",
   "execution_count": null,
   "id": "2977ff2c-90f7-475d-9f11-dabb86aa075d",
   "metadata": {},
   "outputs": [],
   "source": []
  }
 ],
 "metadata": {
  "kernelspec": {
   "display_name": "Python 3 (ipykernel)",
   "language": "python",
   "name": "python3"
  },
  "language_info": {
   "codemirror_mode": {
    "name": "ipython",
    "version": 3
   },
   "file_extension": ".py",
   "mimetype": "text/x-python",
   "name": "python",
   "nbconvert_exporter": "python",
   "pygments_lexer": "ipython3",
   "version": "3.11.9"
  }
 },
 "nbformat": 4,
 "nbformat_minor": 5
}
